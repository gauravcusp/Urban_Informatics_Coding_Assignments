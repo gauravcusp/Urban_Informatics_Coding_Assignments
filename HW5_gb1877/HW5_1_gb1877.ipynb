{
 "cells": [
  {
   "cell_type": "markdown",
   "metadata": {},
   "source": [
    "## Assignment 4 Part 1"
   ]
  },
  {
   "cell_type": "code",
   "execution_count": 63,
   "metadata": {
    "collapsed": false
   },
   "outputs": [
    {
     "name": "stdout",
     "output_type": "stream",
     "text": [
      "Populating the interactive namespace from numpy and matplotlib\n"
     ]
    }
   ],
   "source": [
    "from __future__ import print_function, division\n",
    "import pylab as pl\n",
    "import pandas as pd\n",
    "import numpy as np\n",
    "import scipy as sp\n",
    "from scipy import stats\n",
    "import statsmodels.api as st\n",
    "%pylab inline\n"
   ]
  },
  {
   "cell_type": "markdown",
   "metadata": {},
   "source": [
    "### 1 Poisson distribution with 100 samples"
   ]
  },
  {
   "cell_type": "code",
   "execution_count": 173,
   "metadata": {
    "collapsed": false
   },
   "outputs": [
    {
     "data": {
      "text/plain": [
       "<matplotlib.text.Text at 0x7f02dea42f28>"
      ]
     },
     "execution_count": 173,
     "metadata": {},
     "output_type": "execute_result"
    },
    {
     "data": {
      "image/png": "[encoded data removed]",
      "text/plain": [
       "<matplotlib.figure.Figure at 0x7f02e25b2a90>"
      ]
     },
     "metadata": {},
     "output_type": "display_data"
    }
   ],
   "source": [
    "#generate the distribution\n",
    "alpha = 0.05\n",
    "np.random.seed(500)\n",
    "\n",
    "mu=200\n",
    "num=1000\n",
    "samples=100\n",
    "distribution=stats.poisson.rvs(mu=mu,size=samples)\n",
    "\n",
    "pl.hist(distribution)\n",
    "pl.xlabel('Mean',fontsize=12)\n",
    "pl.ylabel('Freq.',fontsize=12)\n",
    "pl.title('Plot of 1 distribution with 100 samples ')"
   ]
  },
  {
   "cell_type": "markdown",
   "metadata": {},
   "source": [
    "### Mean and plot for 1000 distribution of Poisson distribution with 100 samples each"
   ]
  },
  {
   "cell_type": "code",
   "execution_count": 141,
   "metadata": {
    "collapsed": false
   },
   "outputs": [
    {
     "data": {
      "text/plain": [
       "<matplotlib.text.Text at 0x7f02db0b52b0>"
      ]
     },
     "execution_count": 141,
     "metadata": {},
     "output_type": "execute_result"
    },
    {
     "data": {
      "image/png": "[encoded data removed]",
      "text/plain": [
       "<matplotlib.figure.Figure at 0x7f02dabde898>"
      ]
     },
     "metadata": {},
     "output_type": "display_data"
    }
   ],
   "source": [
    "#generate the distribution\n",
    "alpha = 0.05\n",
    "np.random.seed(500)\n",
    "\n",
    "mu=200\n",
    "sigma=15\n",
    "num=1000\n",
    "samples=100\n",
    "dMeans=np.zeros(num)\n",
    "for i in range(num):\n",
    "    distribution=sp.stats.poisson.rvs(mu=mu,size=samples)\n",
    "    dMeans[i]=distribution.mean()\n",
    "\n",
    "pl.hist(distribution)\n",
    "\n",
    "pl.xlabel('Mean',fontsize=12)\n",
    "pl.ylabel('Freq.',fontsize=12)\n",
    "pl.title('Plot of 1000 distribution with 100 sample each ')"
   ]
  },
  {
   "cell_type": "code",
   "execution_count": 81,
   "metadata": {
    "collapsed": false
   },
   "outputs": [
    {
     "data": {
      "text/plain": [
       "array([ 200.63,  200.22,  201.31,  199.71,  200.8 ,  200.58,  201.37,\n",
       "        200.34,  200.75,  198.  ,  201.21,  201.63,  199.24,  198.24,\n",
       "        198.65,  201.23,  198.85,  200.43,  198.78,  201.82,  199.76,\n",
       "        199.59,  198.94,  199.6 ,  198.45,  202.24,  200.19,  200.97,\n",
       "        199.5 ,  198.15,  198.36,  197.9 ,  199.39,  199.16,  196.27,\n",
       "        199.92,  201.75,  198.97,  195.59,  198.13,  198.75,  199.41,\n",
       "        198.82,  200.6 ,  202.49,  199.14,  200.64,  198.84,  197.96,\n",
       "        200.11,  200.16,  201.28,  199.99,  200.27,  198.98,  198.19,\n",
       "        198.95,  199.31,  200.58,  198.37,  200.04,  198.41,  198.26,\n",
       "        200.07,  200.59,  200.94,  201.62,  200.2 ,  200.44,  202.49,\n",
       "        200.13,  200.77,  198.02,  200.11,  201.85,  199.7 ,  200.06,\n",
       "        199.17,  201.93,  197.65,  199.56,  200.31,  198.41,  200.25,\n",
       "        199.81,  199.11,  198.06,  200.22,  202.06,  200.55,  197.37,\n",
       "        202.19,  200.02,  200.19,  197.71,  198.91,  200.9 ,  201.19,\n",
       "        200.  ,  199.77,  197.87,  200.76,  200.8 ,  198.23,  200.93,\n",
       "        199.1 ,  200.98,  202.33,  199.16,  200.66,  201.45,  201.55,\n",
       "        200.01,  198.51,  202.48,  200.52,  199.63,  199.18,  200.58,\n",
       "        198.42,  198.01,  200.71,  201.02,  200.51,  200.24,  197.58,\n",
       "        200.22,  199.95,  201.75,  201.68,  202.57,  199.41,  201.48,\n",
       "        201.3 ,  199.81,  199.37,  198.34,  199.83,  198.96,  199.72,\n",
       "        198.99,  201.6 ,  198.76,  198.47,  199.51,  201.21,  197.2 ,\n",
       "        200.56,  201.43,  200.78,  200.51,  201.14,  199.5 ,  201.26,\n",
       "        203.55,  198.25,  198.39,  200.61,  198.27,  200.96,  202.37,\n",
       "        198.83,  200.2 ,  202.96,  200.83,  202.97,  198.6 ,  200.45,\n",
       "        201.59,  196.46,  198.6 ,  198.31,  200.92,  199.52,  196.88,\n",
       "        202.13,  201.13,  200.85,  199.76,  199.74,  202.51,  199.86,\n",
       "        200.92,  202.7 ,  198.5 ,  200.28,  198.48,  199.1 ,  201.19,\n",
       "        202.98,  199.19,  198.56,  200.61,  201.05,  200.47,  199.55,\n",
       "        200.76,  199.13,  199.63,  198.25,  200.88,  199.3 ,  199.26,\n",
       "        199.7 ,  199.24,  198.13,  199.43,  200.45,  198.8 ,  197.58,\n",
       "        198.36,  198.31,  201.22,  199.3 ,  199.26,  199.03,  197.97,\n",
       "        201.  ,  198.26,  202.01,  200.2 ,  200.7 ,  200.01,  201.62,\n",
       "        198.49,  199.12,  198.89,  200.19,  199.99,  202.41,  201.46,\n",
       "        197.37,  198.93,  199.55,  200.17,  199.73,  200.17,  200.88,\n",
       "        199.59,  198.68,  199.57,  200.88,  200.39,  201.14,  203.21,\n",
       "        201.56,  201.22,  200.65,  202.73,  199.47,  199.14,  199.35,\n",
       "        200.26,  201.02,  198.79,  197.22,  201.18,  200.76,  199.61,\n",
       "        200.81,  199.86,  200.18,  198.29,  196.98,  201.33,  200.47,\n",
       "        202.66,  201.37,  198.97,  199.8 ,  196.46,  198.85,  200.96,\n",
       "        198.37,  197.71,  199.74,  202.12,  198.19,  199.91,  198.05,\n",
       "        202.67,  198.99,  200.28,  199.25,  200.03,  201.08,  201.38,\n",
       "        198.29,  198.73,  199.54,  200.07,  199.29,  200.77,  201.3 ,\n",
       "        201.27,  200.66,  201.19,  201.61,  198.37,  200.91,  200.13,\n",
       "        199.06,  200.38,  197.16,  198.15,  200.7 ,  199.54,  199.13,\n",
       "        202.28,  201.52,  197.39,  199.82,  198.  ,  201.4 ,  199.62,\n",
       "        199.36,  200.35,  203.14,  197.85,  200.1 ,  200.32,  196.45,\n",
       "        199.41,  201.96,  198.29,  201.63,  198.79,  200.75,  199.42,\n",
       "        200.19,  200.9 ,  202.54,  199.66,  196.69,  198.59,  200.68,\n",
       "        199.1 ,  200.79,  200.54,  200.75,  199.16,  200.02,  201.48,\n",
       "        200.66,  200.74,  199.31,  198.03,  196.48,  202.07,  202.22,\n",
       "        200.51,  200.  ,  200.41,  200.75,  200.5 ,  198.15,  199.14,\n",
       "        199.68,  200.6 ,  198.46,  201.1 ,  200.86,  198.14,  200.07,\n",
       "        199.35,  201.89,  200.66,  198.93,  201.31,  200.57,  200.15,\n",
       "        200.44,  200.91,  198.24,  199.66,  201.28,  201.64,  201.38,\n",
       "        200.07,  200.5 ,  199.43,  201.69,  199.61,  200.49,  201.49,\n",
       "        197.67,  201.2 ,  199.11,  197.71,  201.09,  199.98,  199.76,\n",
       "        198.81,  202.45,  200.37,  199.14,  201.64,  200.55,  198.73,\n",
       "        200.81,  201.35,  201.54,  201.89,  200.43,  201.16,  199.8 ,\n",
       "        199.19,  199.14,  197.54,  200.62,  198.54,  203.01,  201.48,\n",
       "        199.36,  201.26,  200.04,  199.38,  201.21,  199.35,  197.69,\n",
       "        199.43,  201.88,  197.68,  200.74,  198.31,  201.16,  200.9 ,\n",
       "        198.71,  200.08,  201.17,  198.36,  202.79,  198.77,  201.14,\n",
       "        198.16,  200.06,  202.56,  199.34,  198.53,  200.2 ,  197.66,\n",
       "        200.12,  199.5 ,  198.17,  197.95,  200.  ,  200.32,  198.23,\n",
       "        201.13,  199.52,  204.72,  200.41,  198.02,  197.24,  200.95,\n",
       "        200.31,  201.09,  200.04,  200.85,  201.12,  202.35,  200.58,\n",
       "        197.97,  199.06,  200.77,  199.31,  200.46,  200.15,  199.74,\n",
       "        200.79,  198.67,  199.05,  198.69,  199.49,  199.07,  199.38,\n",
       "        197.97,  199.16,  200.23,  200.87,  198.81,  199.37,  199.26,\n",
       "        201.39,  200.63,  199.82,  200.4 ,  200.51,  201.68,  201.53,\n",
       "        198.36,  201.58,  201.06,  200.78,  200.92,  200.08,  201.17,\n",
       "        200.49,  203.45,  199.15,  199.86,  200.58,  199.81,  197.88,\n",
       "        199.91,  198.36,  202.14,  199.78,  198.73,  200.51,  200.84,\n",
       "        199.88,  199.28,  199.09,  199.55,  199.52,  200.6 ,  200.32,\n",
       "        198.84,  199.81,  199.89,  197.63,  201.26,  202.19,  202.47,\n",
       "        200.77,  202.28,  198.18,  198.01,  199.35,  199.44,  199.55,\n",
       "        198.96,  200.05,  200.23,  199.31,  200.74,  200.12,  199.16,\n",
       "        200.03,  199.96,  199.03,  201.  ,  200.01,  198.  ,  200.25,\n",
       "        199.34,  200.31,  199.98,  200.35,  200.16,  200.33,  199.41,\n",
       "        200.19,  198.72,  201.75,  200.53,  200.31,  202.11,  198.57,\n",
       "        200.85,  200.79,  199.98,  199.  ,  199.94,  199.43,  199.64,\n",
       "        200.08,  199.63,  199.63,  199.95,  198.97,  199.05,  202.41,\n",
       "        197.68,  202.34,  197.47,  199.39,  200.94,  198.15,  199.18,\n",
       "        199.84,  198.67,  199.43,  198.75,  198.95,  197.76,  198.04,\n",
       "        197.24,  202.8 ,  200.75,  202.11,  198.71,  201.5 ,  200.11,\n",
       "        201.23,  200.19,  201.15,  200.46,  200.45,  199.94,  200.59,\n",
       "        201.19,  199.95,  199.69,  200.96,  198.31,  197.84,  201.72,\n",
       "        198.27,  199.33,  196.43,  200.23,  199.07,  199.96,  202.1 ,\n",
       "        201.49,  200.99,  199.56,  198.52,  199.05,  196.78,  198.68,\n",
       "        201.35,  198.36,  201.88,  202.75,  200.78,  200.01,  201.23,\n",
       "        201.47,  200.56,  198.62,  200.7 ,  197.56,  200.17,  201.34,\n",
       "        201.07,  200.33,  200.22,  200.38,  199.08,  199.4 ,  198.71,\n",
       "        198.65,  200.28,  201.2 ,  200.75,  200.39,  199.82,  197.6 ,\n",
       "        199.56,  203.01,  198.4 ,  196.94,  198.7 ,  198.83,  200.23,\n",
       "        200.17,  199.8 ,  199.76,  200.98,  200.01,  204.11,  200.24,\n",
       "        199.27,  200.25,  200.73,  198.39,  202.5 ,  201.35,  197.37,\n",
       "        200.9 ,  200.93,  199.51,  202.  ,  198.62,  199.74,  201.31,\n",
       "        198.1 ,  201.39,  201.2 ,  200.84,  200.29,  199.8 ,  199.11,\n",
       "        199.93,  198.69,  197.72,  200.5 ,  199.89,  199.85,  202.55,\n",
       "        200.17,  201.63,  200.33,  200.14,  201.85,  200.68,  197.61,\n",
       "        198.77,  198.04,  200.73,  201.81,  199.32,  200.33,  199.91,\n",
       "        201.94,  197.93,  198.11,  200.3 ,  200.44,  198.98,  197.74,\n",
       "        197.69,  201.26,  200.82,  202.15,  201.26,  199.41,  201.31,\n",
       "        199.47,  198.91,  197.47,  199.58,  198.64,  197.99,  199.86,\n",
       "        199.55,  197.  ,  199.41,  202.23,  198.69,  197.73,  199.15,\n",
       "        201.48,  200.23,  199.45,  200.02,  200.64,  201.58,  198.07,\n",
       "        198.59,  198.64,  199.13,  197.98,  201.68,  201.22,  202.54,\n",
       "        200.53,  202.02,  199.74,  199.99,  198.69,  200.77,  201.02,\n",
       "        200.55,  201.43,  202.19,  199.2 ,  202.5 ,  200.65,  200.22,\n",
       "        200.88,  201.69,  200.03,  198.88,  201.54,  199.65,  201.79,\n",
       "        198.08,  198.55,  201.68,  199.23,  201.24,  200.25,  198.68,\n",
       "        200.37,  199.66,  200.6 ,  199.39,  200.69,  200.46,  199.9 ,\n",
       "        199.97,  201.55,  201.33,  200.05,  199.8 ,  200.93,  200.65,\n",
       "        201.66,  199.13,  200.86,  200.16,  198.08,  199.21,  200.27,\n",
       "        199.15,  201.14,  200.6 ,  202.17,  199.18,  197.03,  200.45,\n",
       "        196.36,  201.11,  198.71,  201.03,  197.96,  198.01,  200.21,\n",
       "        203.18,  199.33,  201.69,  199.22,  199.71,  201.18,  199.47,\n",
       "        199.61,  199.95,  201.79,  201.32,  198.28,  199.68,  203.12,\n",
       "        197.63,  200.39,  199.91,  198.53,  197.46,  199.82,  202.26,\n",
       "        201.71,  200.35,  200.83,  200.76,  200.15,  200.03,  199.09,\n",
       "        199.42,  202.31,  199.2 ,  200.3 ,  197.43,  202.84,  199.33,\n",
       "        199.75,  200.9 ,  201.4 ,  202.79,  200.81,  199.79,  199.72,\n",
       "        199.23,  196.1 ,  198.68,  199.07,  199.77,  199.47,  201.38,\n",
       "        199.16,  199.68,  200.59,  201.42,  201.5 ,  201.73,  201.26,\n",
       "        199.35,  203.18,  198.52,  199.4 ,  203.08,  202.26,  201.94,\n",
       "        199.49,  200.39,  201.96,  201.27,  198.68,  199.34,  200.68,\n",
       "        201.59,  201.47,  198.67,  199.17,  199.02,  202.27,  199.93,\n",
       "        198.6 ,  200.12,  197.96,  200.49,  201.23,  199.03,  199.19,\n",
       "        200.17,  199.99,  201.67,  200.37,  200.21,  197.79,  199.68,\n",
       "        201.93,  199.33,  203.38,  200.1 ,  201.38,  202.09,  197.4 ,\n",
       "        198.22,  198.  ,  200.83,  200.35,  200.45,  198.53,  199.03,\n",
       "        197.32,  199.3 ,  199.1 ,  199.86,  200.24,  199.55,  200.8 ,\n",
       "        200.31,  200.25,  200.04,  199.02,  195.7 ,  203.06,  201.33,\n",
       "        197.48,  199.24,  200.99,  201.15,  197.51,  199.81,  201.54,\n",
       "        200.76,  199.87,  200.2 ,  201.8 ,  200.71,  201.49,  198.75,\n",
       "        200.98,  199.08,  200.45,  199.81,  202.37,  197.54,  197.44,\n",
       "        198.22,  200.68,  200.24,  199.49,  201.19,  201.08,  200.7 ,\n",
       "        198.42,  199.71,  202.12,  199.47,  200.55,  199.5 ,  200.57,\n",
       "        199.28,  202.06,  202.87,  200.45,  200.49,  198.9 ,  199.3 ,\n",
       "        198.23,  198.09,  198.04,  200.42,  199.22,  200.79,  200.8 ,\n",
       "        201.17,  199.61,  199.33,  197.46,  199.68,  199.49,  201.75,\n",
       "        200.01,  199.21,  201.79,  199.9 ,  199.8 ,  200.26,  200.79,\n",
       "        200.68,  200.04,  202.21,  200.3 ,  197.47,  202.11])"
      ]
     },
     "execution_count": 81,
     "metadata": {},
     "output_type": "execute_result"
    }
   ],
   "source": [
    "dMeans"
   ]
  },
  {
   "cell_type": "markdown",
   "metadata": {},
   "source": [
    "### Null Hypothesis\n",
    "$H_0$: Distribution of z-statistics is consistent with Gaussian N(0,1)\n",
    "\n",
    "$\\alpha$ = 0.05"
   ]
  },
  {
   "cell_type": "markdown",
   "metadata": {},
   "source": [
    "### Applying Z-test and Plot for Z-test"
   ]
  },
  {
   "cell_type": "code",
   "execution_count": 142,
   "metadata": {
    "collapsed": false
   },
   "outputs": [],
   "source": [
    "zs= (mu-dMeans)/ (sigma/np.sqrt(samples))"
   ]
  },
  {
   "cell_type": "code",
   "execution_count": 143,
   "metadata": {
    "collapsed": false
   },
   "outputs": [
    {
     "name": "stdout",
     "output_type": "stream",
     "text": [
      "mean of z distribution is 0.00607333333333 and standard devation is 0.927464574442\n"
     ]
    }
   ],
   "source": [
    "print('mean of z distribution is',zs.mean(),'and standard devation is',zs.std())"
   ]
  },
  {
   "cell_type": "code",
   "execution_count": 192,
   "metadata": {
    "collapsed": false
   },
   "outputs": [
    {
     "data": {
      "text/plain": [
       "<matplotlib.text.Text at 0x7f02de9a70b8>"
      ]
     },
     "execution_count": 192,
     "metadata": {},
     "output_type": "execute_result"
    },
    {
     "data": {
      "image/png": "[encoded data removed]",
      "text/plain": [
       "<matplotlib.figure.Figure at 0x7f02de9a7358>"
      ]
     },
     "metadata": {},
     "output_type": "display_data"
    }
   ],
   "source": [
    "pl.hist(zs)\n",
    "pl.xlabel('z-statistics',fontsize=12)\n",
    "pl.ylabel('Freq.',fontsize=12)\n",
    "pl.title('Hist for Z-Statistics')\n",
    "\n",
    "normal= np.random.normal(0,1,1000)\n",
    "pl.hist(normal,alpha=0.7)\n",
    "pl.text(-4,-55,'Here is the plot of Z-statistics (in blue) and gaussian distribution (in yellow) overlapping it ',fontsize=12)"
   ]
  },
  {
   "cell_type": "code",
   "execution_count": 144,
   "metadata": {
    "collapsed": false
   },
   "outputs": [
    {
     "data": {
      "text/plain": [
       "KstestResult(statistic=0.02794172040755015, pvalue=0.41193641432015715)"
      ]
     },
     "execution_count": 144,
     "metadata": {},
     "output_type": "execute_result"
    }
   ],
   "source": [
    "sp.stats.kstest(zs,'norm')"
   ]
  },
  {
   "cell_type": "markdown",
   "metadata": {
    "collapsed": true
   },
   "source": [
    "As pvalue is greater than $\\alpha$ = 0.05, we cannot reject the Null hypothesis, therefore distribution of z-statistics is consistent with Gaussian distribution."
   ]
  },
  {
   "cell_type": "code",
   "execution_count": 145,
   "metadata": {
    "collapsed": false
   },
   "outputs": [
    {
     "data": {
      "text/plain": [
       "AndersonResult(statistic=0.39397058220367853, critical_values=array([ 0.574,  0.653,  0.784,  0.914,  1.088]), significance_level=array([ 15. ,  10. ,   5. ,   2.5,   1. ]))"
      ]
     },
     "execution_count": 145,
     "metadata": {},
     "output_type": "execute_result"
    }
   ],
   "source": [
    "sp.stats.anderson(zs,'norm')"
   ]
  },
  {
   "cell_type": "markdown",
   "metadata": {},
   "source": [
    "Here the critical value correspoding to our $\\alpha$ is 0.784. As our statistic value is less than the xritical value, we cannot reject the Null hypothesis. Therefore z-statistics is consistent with Gaussian"
   ]
  },
  {
   "cell_type": "code",
   "execution_count": null,
   "metadata": {
    "collapsed": false
   },
   "outputs": [],
   "source": []
  },
  {
   "cell_type": "code",
   "execution_count": null,
   "metadata": {
    "collapsed": true
   },
   "outputs": [],
   "source": []
  }
 ],
 "metadata": {
  "kernelspec": {
   "display_name": "PUI2016_Python3",
   "language": "python",
   "name": "pui2016_python3"
  },
  "language_info": {
   "codemirror_mode": {
    "name": "ipython",
    "version": 3
   },
   "file_extension": ".py",
   "mimetype": "text/x-python",
   "name": "python",
   "nbconvert_exporter": "python",
   "pygments_lexer": "ipython3",
   "version": "3.5.4"
  }
 },
 "nbformat": 4,
 "nbformat_minor": 0
}
